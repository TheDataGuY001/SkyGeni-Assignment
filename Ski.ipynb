{
  "nbformat": 4,
  "nbformat_minor": 0,
  "metadata": {
    "colab": {
      "provenance": []
    },
    "kernelspec": {
      "name": "python3",
      "display_name": "Python 3"
    },
    "language_info": {
      "name": "python"
    }
  },
  "cells": [
    {
      "cell_type": "markdown",
      "source": [
        "# Importing libraries, datasets and Basic EDA\n"
      ],
      "metadata": {
        "id": "-r7yHc_SanFk"
      }
    },
    {
      "cell_type": "code",
      "source": [
        "+## Importing libraries\n",
        "\n",
        "import pandas as pd\n",
        "import numpy as np\n",
        "import matplotlib.pyplot as plt\n",
        "import seaborn as sns\n",
        "\n",
        "import warnings\n",
        "warnings.filterwarnings(\"ignore\")"
      ],
      "metadata": {
        "id": "p1bJtS-dCqdy"
      },
      "execution_count": 96,
      "outputs": []
    },
    {
      "cell_type": "code",
      "source": [
        "## Importing datasets\n",
        "\n",
        "df_financial = pd.read_csv('/content/finanical_information.csv')\n",
        "df_industry = pd.read_csv('/content/industry_client_details.csv')\n",
        "df_payment = pd.read_csv('/content/payment_information.csv')\n",
        "df_subscription = pd.read_csv('/content/subscription_information.csv')"
      ],
      "metadata": {
        "id": "NdNQCVrxCu5V"
      },
      "execution_count": 97,
      "outputs": []
    },
    {
      "cell_type": "code",
      "source": [
        "## Checking for common columns\n",
        "\n",
        "total_df = [df_financial, df_industry, df_payment, df_subscription]\n",
        "for df in total_df:\n",
        "  print(df.head(1))"
      ],
      "metadata": {
        "colab": {
          "base_uri": "https://localhost:8080/"
        },
        "id": "YPbHVCDUDUcr",
        "outputId": "ad7ce00e-2ef2-4a77-9db7-3c251e502715"
      },
      "execution_count": 98,
      "outputs": [
        {
          "output_type": "stream",
          "name": "stdout",
          "text": [
            "   Unnamed: 0  start_date    end_date  inflation_rate  gdp_growth_rate\n",
            "0           0  2018-01-01  2018-03-31            5.77             3.51\n",
            "    client_id company_size         industry location\n",
            "0  4280387012        Large  Finance Lending   Mumbai\n",
            "    client_id payment_date  amount_paid payment_method\n",
            "0  6292156167    9/16/2019        447.0  Bank Transfer\n",
            "    client_id subscription_type  start_date    end_date  renewed\n",
            "0  1131383004            Yearly  2020-11-11  2021-11-11    False\n"
          ]
        }
      ]
    },
    {
      "cell_type": "code",
      "source": [
        "## Merging the datasets\n",
        "\n",
        "df_merge = df_industry.set_index('client_id').join([df_subscription.set_index('client_id'),\n",
        "                                                     df_payment.set_index('client_id')],\n",
        "                                                    how='inner')\n",
        "df_merge = df_merge.reset_index()"
      ],
      "metadata": {
        "id": "8E3KJFNwEqyp"
      },
      "execution_count": 99,
      "outputs": []
    },
    {
      "cell_type": "code",
      "source": [
        "df_financial.info()"
      ],
      "metadata": {
        "colab": {
          "base_uri": "https://localhost:8080/"
        },
        "id": "jMiNEpPjTfsr",
        "outputId": "f6311fce-dce6-491c-afc9-de254be9ba6c"
      },
      "execution_count": 87,
      "outputs": [
        {
          "output_type": "stream",
          "name": "stdout",
          "text": [
            "<class 'pandas.core.frame.DataFrame'>\n",
            "RangeIndex: 21 entries, 0 to 20\n",
            "Data columns (total 5 columns):\n",
            " #   Column           Non-Null Count  Dtype         \n",
            "---  ------           --------------  -----         \n",
            " 0   Unnamed: 0       21 non-null     int64         \n",
            " 1   start_date       21 non-null     datetime64[ns]\n",
            " 2   end_date         21 non-null     datetime64[ns]\n",
            " 3   inflation_rate   21 non-null     float64       \n",
            " 4   gdp_growth_rate  21 non-null     float64       \n",
            "dtypes: datetime64[ns](2), float64(2), int64(1)\n",
            "memory usage: 972.0 bytes\n"
          ]
        }
      ]
    },
    {
      "cell_type": "code",
      "source": [
        "## Checking for the null, data types and Shape of the datas\n",
        "\n",
        "df_merge.info()"
      ],
      "metadata": {
        "colab": {
          "base_uri": "https://localhost:8080/"
        },
        "id": "lTQ_VI1kh29C",
        "outputId": "4c1a8ed9-f152-47d1-f44c-22c884792b31"
      },
      "execution_count": 102,
      "outputs": [
        {
          "output_type": "stream",
          "name": "stdout",
          "text": [
            "<class 'pandas.core.frame.DataFrame'>\n",
            "RangeIndex: 100 entries, 0 to 99\n",
            "Data columns (total 11 columns):\n",
            " #   Column             Non-Null Count  Dtype  \n",
            "---  ------             --------------  -----  \n",
            " 0   client_id          100 non-null    int64  \n",
            " 1   company_size       100 non-null    object \n",
            " 2   industry           100 non-null    object \n",
            " 3   location           100 non-null    object \n",
            " 4   subscription_type  100 non-null    object \n",
            " 5   start_date         100 non-null    object \n",
            " 6   end_date           100 non-null    object \n",
            " 7   renewed            100 non-null    bool   \n",
            " 8   payment_date       100 non-null    object \n",
            " 9   amount_paid        100 non-null    float64\n",
            " 10  payment_method     100 non-null    object \n",
            "dtypes: bool(1), float64(1), int64(1), object(8)\n",
            "memory usage: 8.0+ KB\n"
          ]
        }
      ]
    },
    {
      "cell_type": "code",
      "source": [
        "## Converting the date time datas to proper data type\n",
        "\n",
        "df_merge[['payment_date', 'start_date', 'end_date']] = df_merge[['payment_date', 'start_date', 'end_date']].apply(pd.to_datetime)\n",
        "df_financial['end_date'] = pd.to_datetime(df_financial['end_date'])"
      ],
      "metadata": {
        "id": "CFLMuZmVjgUw"
      },
      "execution_count": 103,
      "outputs": []
    },
    {
      "cell_type": "code",
      "source": [
        "## Cross verifying the data types\n",
        "\n",
        "df_merge.info()"
      ],
      "metadata": {
        "colab": {
          "base_uri": "https://localhost:8080/"
        },
        "id": "aF4XxVsB0vwp",
        "outputId": "c6a8db1d-cf0a-44c0-ad47-fb1c5937a242"
      },
      "execution_count": 106,
      "outputs": [
        {
          "output_type": "stream",
          "name": "stdout",
          "text": [
            "<class 'pandas.core.frame.DataFrame'>\n",
            "RangeIndex: 100 entries, 0 to 99\n",
            "Data columns (total 11 columns):\n",
            " #   Column             Non-Null Count  Dtype         \n",
            "---  ------             --------------  -----         \n",
            " 0   client_id          100 non-null    int64         \n",
            " 1   company_size       100 non-null    object        \n",
            " 2   industry           100 non-null    object        \n",
            " 3   location           100 non-null    object        \n",
            " 4   subscription_type  100 non-null    object        \n",
            " 5   start_date         100 non-null    datetime64[ns]\n",
            " 6   end_date           100 non-null    datetime64[ns]\n",
            " 7   renewed            100 non-null    bool          \n",
            " 8   payment_date       100 non-null    datetime64[ns]\n",
            " 9   amount_paid        100 non-null    float64       \n",
            " 10  payment_method     100 non-null    object        \n",
            "dtypes: bool(1), datetime64[ns](3), float64(1), int64(1), object(5)\n",
            "memory usage: 8.0+ KB\n"
          ]
        }
      ]
    },
    {
      "cell_type": "code",
      "source": [
        "## displaying the Merged dataset\n",
        "\n",
        "df_merge.head(2)"
      ],
      "metadata": {
        "colab": {
          "base_uri": "https://localhost:8080/",
          "height": 167
        },
        "id": "Z4tilubMGpbA",
        "outputId": "ec82aa5c-3d31-4f7a-a3a9-73a0d67b797b"
      },
      "execution_count": 107,
      "outputs": [
        {
          "output_type": "execute_result",
          "data": {
            "text/plain": [
              "    client_id company_size         industry location subscription_type  \\\n",
              "0  4280387012        Large  Finance Lending   Mumbai            Yearly   \n",
              "1  2095513148        Small  Finance Lending  Chennai           Monthly   \n",
              "\n",
              "  start_date   end_date  renewed payment_date  amount_paid payment_method  \n",
              "0 2022-11-25 2023-11-25     True   2022-11-25         77.1          Check  \n",
              "1 2021-11-03 2021-12-03    False   2021-11-03        470.8          Check  "
            ],
            "text/html": [
              "\n",
              "  <div id=\"df-6f611c2e-06ec-4508-b73e-744901839197\" class=\"colab-df-container\">\n",
              "    <div>\n",
              "<style scoped>\n",
              "    .dataframe tbody tr th:only-of-type {\n",
              "        vertical-align: middle;\n",
              "    }\n",
              "\n",
              "    .dataframe tbody tr th {\n",
              "        vertical-align: top;\n",
              "    }\n",
              "\n",
              "    .dataframe thead th {\n",
              "        text-align: right;\n",
              "    }\n",
              "</style>\n",
              "<table border=\"1\" class=\"dataframe\">\n",
              "  <thead>\n",
              "    <tr style=\"text-align: right;\">\n",
              "      <th></th>\n",
              "      <th>client_id</th>\n",
              "      <th>company_size</th>\n",
              "      <th>industry</th>\n",
              "      <th>location</th>\n",
              "      <th>subscription_type</th>\n",
              "      <th>start_date</th>\n",
              "      <th>end_date</th>\n",
              "      <th>renewed</th>\n",
              "      <th>payment_date</th>\n",
              "      <th>amount_paid</th>\n",
              "      <th>payment_method</th>\n",
              "    </tr>\n",
              "  </thead>\n",
              "  <tbody>\n",
              "    <tr>\n",
              "      <th>0</th>\n",
              "      <td>4280387012</td>\n",
              "      <td>Large</td>\n",
              "      <td>Finance Lending</td>\n",
              "      <td>Mumbai</td>\n",
              "      <td>Yearly</td>\n",
              "      <td>2022-11-25</td>\n",
              "      <td>2023-11-25</td>\n",
              "      <td>True</td>\n",
              "      <td>2022-11-25</td>\n",
              "      <td>77.1</td>\n",
              "      <td>Check</td>\n",
              "    </tr>\n",
              "    <tr>\n",
              "      <th>1</th>\n",
              "      <td>2095513148</td>\n",
              "      <td>Small</td>\n",
              "      <td>Finance Lending</td>\n",
              "      <td>Chennai</td>\n",
              "      <td>Monthly</td>\n",
              "      <td>2021-11-03</td>\n",
              "      <td>2021-12-03</td>\n",
              "      <td>False</td>\n",
              "      <td>2021-11-03</td>\n",
              "      <td>470.8</td>\n",
              "      <td>Check</td>\n",
              "    </tr>\n",
              "  </tbody>\n",
              "</table>\n",
              "</div>\n",
              "    <div class=\"colab-df-buttons\">\n",
              "\n",
              "  <div class=\"colab-df-container\">\n",
              "    <button class=\"colab-df-convert\" onclick=\"convertToInteractive('df-6f611c2e-06ec-4508-b73e-744901839197')\"\n",
              "            title=\"Convert this dataframe to an interactive table.\"\n",
              "            style=\"display:none;\">\n",
              "\n",
              "  <svg xmlns=\"http://www.w3.org/2000/svg\" height=\"24px\" viewBox=\"0 -960 960 960\">\n",
              "    <path d=\"M120-120v-720h720v720H120Zm60-500h600v-160H180v160Zm220 220h160v-160H400v160Zm0 220h160v-160H400v160ZM180-400h160v-160H180v160Zm440 0h160v-160H620v160ZM180-180h160v-160H180v160Zm440 0h160v-160H620v160Z\"/>\n",
              "  </svg>\n",
              "    </button>\n",
              "\n",
              "  <style>\n",
              "    .colab-df-container {\n",
              "      display:flex;\n",
              "      gap: 12px;\n",
              "    }\n",
              "\n",
              "    .colab-df-convert {\n",
              "      background-color: #E8F0FE;\n",
              "      border: none;\n",
              "      border-radius: 50%;\n",
              "      cursor: pointer;\n",
              "      display: none;\n",
              "      fill: #1967D2;\n",
              "      height: 32px;\n",
              "      padding: 0 0 0 0;\n",
              "      width: 32px;\n",
              "    }\n",
              "\n",
              "    .colab-df-convert:hover {\n",
              "      background-color: #E2EBFA;\n",
              "      box-shadow: 0px 1px 2px rgba(60, 64, 67, 0.3), 0px 1px 3px 1px rgba(60, 64, 67, 0.15);\n",
              "      fill: #174EA6;\n",
              "    }\n",
              "\n",
              "    .colab-df-buttons div {\n",
              "      margin-bottom: 4px;\n",
              "    }\n",
              "\n",
              "    [theme=dark] .colab-df-convert {\n",
              "      background-color: #3B4455;\n",
              "      fill: #D2E3FC;\n",
              "    }\n",
              "\n",
              "    [theme=dark] .colab-df-convert:hover {\n",
              "      background-color: #434B5C;\n",
              "      box-shadow: 0px 1px 3px 1px rgba(0, 0, 0, 0.15);\n",
              "      filter: drop-shadow(0px 1px 2px rgba(0, 0, 0, 0.3));\n",
              "      fill: #FFFFFF;\n",
              "    }\n",
              "  </style>\n",
              "\n",
              "    <script>\n",
              "      const buttonEl =\n",
              "        document.querySelector('#df-6f611c2e-06ec-4508-b73e-744901839197 button.colab-df-convert');\n",
              "      buttonEl.style.display =\n",
              "        google.colab.kernel.accessAllowed ? 'block' : 'none';\n",
              "\n",
              "      async function convertToInteractive(key) {\n",
              "        const element = document.querySelector('#df-6f611c2e-06ec-4508-b73e-744901839197');\n",
              "        const dataTable =\n",
              "          await google.colab.kernel.invokeFunction('convertToInteractive',\n",
              "                                                    [key], {});\n",
              "        if (!dataTable) return;\n",
              "\n",
              "        const docLinkHtml = 'Like what you see? Visit the ' +\n",
              "          '<a target=\"_blank\" href=https://colab.research.google.com/notebooks/data_table.ipynb>data table notebook</a>'\n",
              "          + ' to learn more about interactive tables.';\n",
              "        element.innerHTML = '';\n",
              "        dataTable['output_type'] = 'display_data';\n",
              "        await google.colab.output.renderOutput(dataTable, element);\n",
              "        const docLink = document.createElement('div');\n",
              "        docLink.innerHTML = docLinkHtml;\n",
              "        element.appendChild(docLink);\n",
              "      }\n",
              "    </script>\n",
              "  </div>\n",
              "\n",
              "\n",
              "<div id=\"df-17f44f1c-8cd7-4990-91bd-4898c2136318\">\n",
              "  <button class=\"colab-df-quickchart\" onclick=\"quickchart('df-17f44f1c-8cd7-4990-91bd-4898c2136318')\"\n",
              "            title=\"Suggest charts\"\n",
              "            style=\"display:none;\">\n",
              "\n",
              "<svg xmlns=\"http://www.w3.org/2000/svg\" height=\"24px\"viewBox=\"0 0 24 24\"\n",
              "     width=\"24px\">\n",
              "    <g>\n",
              "        <path d=\"M19 3H5c-1.1 0-2 .9-2 2v14c0 1.1.9 2 2 2h14c1.1 0 2-.9 2-2V5c0-1.1-.9-2-2-2zM9 17H7v-7h2v7zm4 0h-2V7h2v10zm4 0h-2v-4h2v4z\"/>\n",
              "    </g>\n",
              "</svg>\n",
              "  </button>\n",
              "\n",
              "<style>\n",
              "  .colab-df-quickchart {\n",
              "      --bg-color: #E8F0FE;\n",
              "      --fill-color: #1967D2;\n",
              "      --hover-bg-color: #E2EBFA;\n",
              "      --hover-fill-color: #174EA6;\n",
              "      --disabled-fill-color: #AAA;\n",
              "      --disabled-bg-color: #DDD;\n",
              "  }\n",
              "\n",
              "  [theme=dark] .colab-df-quickchart {\n",
              "      --bg-color: #3B4455;\n",
              "      --fill-color: #D2E3FC;\n",
              "      --hover-bg-color: #434B5C;\n",
              "      --hover-fill-color: #FFFFFF;\n",
              "      --disabled-bg-color: #3B4455;\n",
              "      --disabled-fill-color: #666;\n",
              "  }\n",
              "\n",
              "  .colab-df-quickchart {\n",
              "    background-color: var(--bg-color);\n",
              "    border: none;\n",
              "    border-radius: 50%;\n",
              "    cursor: pointer;\n",
              "    display: none;\n",
              "    fill: var(--fill-color);\n",
              "    height: 32px;\n",
              "    padding: 0;\n",
              "    width: 32px;\n",
              "  }\n",
              "\n",
              "  .colab-df-quickchart:hover {\n",
              "    background-color: var(--hover-bg-color);\n",
              "    box-shadow: 0 1px 2px rgba(60, 64, 67, 0.3), 0 1px 3px 1px rgba(60, 64, 67, 0.15);\n",
              "    fill: var(--button-hover-fill-color);\n",
              "  }\n",
              "\n",
              "  .colab-df-quickchart-complete:disabled,\n",
              "  .colab-df-quickchart-complete:disabled:hover {\n",
              "    background-color: var(--disabled-bg-color);\n",
              "    fill: var(--disabled-fill-color);\n",
              "    box-shadow: none;\n",
              "  }\n",
              "\n",
              "  .colab-df-spinner {\n",
              "    border: 2px solid var(--fill-color);\n",
              "    border-color: transparent;\n",
              "    border-bottom-color: var(--fill-color);\n",
              "    animation:\n",
              "      spin 1s steps(1) infinite;\n",
              "  }\n",
              "\n",
              "  @keyframes spin {\n",
              "    0% {\n",
              "      border-color: transparent;\n",
              "      border-bottom-color: var(--fill-color);\n",
              "      border-left-color: var(--fill-color);\n",
              "    }\n",
              "    20% {\n",
              "      border-color: transparent;\n",
              "      border-left-color: var(--fill-color);\n",
              "      border-top-color: var(--fill-color);\n",
              "    }\n",
              "    30% {\n",
              "      border-color: transparent;\n",
              "      border-left-color: var(--fill-color);\n",
              "      border-top-color: var(--fill-color);\n",
              "      border-right-color: var(--fill-color);\n",
              "    }\n",
              "    40% {\n",
              "      border-color: transparent;\n",
              "      border-right-color: var(--fill-color);\n",
              "      border-top-color: var(--fill-color);\n",
              "    }\n",
              "    60% {\n",
              "      border-color: transparent;\n",
              "      border-right-color: var(--fill-color);\n",
              "    }\n",
              "    80% {\n",
              "      border-color: transparent;\n",
              "      border-right-color: var(--fill-color);\n",
              "      border-bottom-color: var(--fill-color);\n",
              "    }\n",
              "    90% {\n",
              "      border-color: transparent;\n",
              "      border-bottom-color: var(--fill-color);\n",
              "    }\n",
              "  }\n",
              "</style>\n",
              "\n",
              "  <script>\n",
              "    async function quickchart(key) {\n",
              "      const quickchartButtonEl =\n",
              "        document.querySelector('#' + key + ' button');\n",
              "      quickchartButtonEl.disabled = true;  // To prevent multiple clicks.\n",
              "      quickchartButtonEl.classList.add('colab-df-spinner');\n",
              "      try {\n",
              "        const charts = await google.colab.kernel.invokeFunction(\n",
              "            'suggestCharts', [key], {});\n",
              "      } catch (error) {\n",
              "        console.error('Error during call to suggestCharts:', error);\n",
              "      }\n",
              "      quickchartButtonEl.classList.remove('colab-df-spinner');\n",
              "      quickchartButtonEl.classList.add('colab-df-quickchart-complete');\n",
              "    }\n",
              "    (() => {\n",
              "      let quickchartButtonEl =\n",
              "        document.querySelector('#df-17f44f1c-8cd7-4990-91bd-4898c2136318 button');\n",
              "      quickchartButtonEl.style.display =\n",
              "        google.colab.kernel.accessAllowed ? 'block' : 'none';\n",
              "    })();\n",
              "  </script>\n",
              "</div>\n",
              "\n",
              "    </div>\n",
              "  </div>\n"
            ],
            "application/vnd.google.colaboratory.intrinsic+json": {
              "type": "dataframe",
              "variable_name": "df_merge",
              "summary": "{\n  \"name\": \"df_merge\",\n  \"rows\": 100,\n  \"fields\": [\n    {\n      \"column\": \"client_id\",\n      \"properties\": {\n        \"dtype\": \"number\",\n        \"std\": 2429520149,\n        \"min\": 1077708772,\n        \"max\": 9842414729,\n        \"num_unique_values\": 100,\n        \"samples\": [\n          2083869816,\n          8540187780,\n          5983139564\n        ],\n        \"semantic_type\": \"\",\n        \"description\": \"\"\n      }\n    },\n    {\n      \"column\": \"company_size\",\n      \"properties\": {\n        \"dtype\": \"category\",\n        \"num_unique_values\": 3,\n        \"samples\": [\n          \"Large\",\n          \"Small\",\n          \"Medium\"\n        ],\n        \"semantic_type\": \"\",\n        \"description\": \"\"\n      }\n    },\n    {\n      \"column\": \"industry\",\n      \"properties\": {\n        \"dtype\": \"category\",\n        \"num_unique_values\": 5,\n        \"samples\": [\n          \"Block Chain\",\n          \"Gaming\",\n          \"Hyper Local\"\n        ],\n        \"semantic_type\": \"\",\n        \"description\": \"\"\n      }\n    },\n    {\n      \"column\": \"location\",\n      \"properties\": {\n        \"dtype\": \"category\",\n        \"num_unique_values\": 5,\n        \"samples\": [\n          \"Chennai\",\n          \"Hyderabad\",\n          \"New Delhi\"\n        ],\n        \"semantic_type\": \"\",\n        \"description\": \"\"\n      }\n    },\n    {\n      \"column\": \"subscription_type\",\n      \"properties\": {\n        \"dtype\": \"category\",\n        \"num_unique_values\": 2,\n        \"samples\": [\n          \"Monthly\",\n          \"Yearly\"\n        ],\n        \"semantic_type\": \"\",\n        \"description\": \"\"\n      }\n    },\n    {\n      \"column\": \"start_date\",\n      \"properties\": {\n        \"dtype\": \"date\",\n        \"min\": \"2018-02-10 00:00:00\",\n        \"max\": \"2022-12-20 00:00:00\",\n        \"num_unique_values\": 97,\n        \"samples\": [\n          \"2019-07-07 00:00:00\",\n          \"2022-12-20 00:00:00\"\n        ],\n        \"semantic_type\": \"\",\n        \"description\": \"\"\n      }\n    },\n    {\n      \"column\": \"end_date\",\n      \"properties\": {\n        \"dtype\": \"date\",\n        \"min\": \"2018-04-03 00:00:00\",\n        \"max\": \"2023-12-20 00:00:00\",\n        \"num_unique_values\": 97,\n        \"samples\": [\n          \"2019-08-06 00:00:00\",\n          \"2023-12-20 00:00:00\"\n        ],\n        \"semantic_type\": \"\",\n        \"description\": \"\"\n      }\n    },\n    {\n      \"column\": \"renewed\",\n      \"properties\": {\n        \"dtype\": \"boolean\",\n        \"num_unique_values\": 2,\n        \"samples\": [\n          false,\n          true\n        ],\n        \"semantic_type\": \"\",\n        \"description\": \"\"\n      }\n    },\n    {\n      \"column\": \"payment_date\",\n      \"properties\": {\n        \"dtype\": \"date\",\n        \"min\": \"2018-02-10 00:00:00\",\n        \"max\": \"2022-12-20 00:00:00\",\n        \"num_unique_values\": 97,\n        \"samples\": [\n          \"2019-07-07 00:00:00\",\n          \"2022-12-20 00:00:00\"\n        ],\n        \"semantic_type\": \"\",\n        \"description\": \"\"\n      }\n    },\n    {\n      \"column\": \"amount_paid\",\n      \"properties\": {\n        \"dtype\": \"number\",\n        \"std\": 133.5999075296057,\n        \"min\": 61.1,\n        \"max\": 494.6,\n        \"num_unique_values\": 100,\n        \"samples\": [\n          386.8,\n          300.7\n        ],\n        \"semantic_type\": \"\",\n        \"description\": \"\"\n      }\n    },\n    {\n      \"column\": \"payment_method\",\n      \"properties\": {\n        \"dtype\": \"category\",\n        \"num_unique_values\": 3,\n        \"samples\": [\n          \"Check\",\n          \"Bank Transfer\"\n        ],\n        \"semantic_type\": \"\",\n        \"description\": \"\"\n      }\n    }\n  ]\n}"
            }
          },
          "metadata": {},
          "execution_count": 107
        }
      ]
    },
    {
      "cell_type": "code",
      "source": [
        "## Creating a new column 'payment_year' by extracting the year from 'payment_date' for future analysis\n",
        "\n",
        "df_merge['payment_year'] = df_merge['payment_date'].dt.year"
      ],
      "metadata": {
        "id": "CYiviu8AF87m"
      },
      "execution_count": 108,
      "outputs": []
    },
    {
      "cell_type": "code",
      "source": [
        "## Converting the payment_year datatype\n",
        "\n",
        "df_merge['payment_year'] = pd.to_datetime(df_merge['payment_date']).dt.to_period('Y')"
      ],
      "metadata": {
        "id": "KgjJStQCQusV"
      },
      "execution_count": 109,
      "outputs": []
    },
    {
      "cell_type": "code",
      "source": [
        "## Cross verifying\n",
        "\n",
        "df_merge.info()"
      ],
      "metadata": {
        "colab": {
          "base_uri": "https://localhost:8080/"
        },
        "id": "QH1DsfH1Qkrt",
        "outputId": "d2522721-d27d-48e1-c7b6-e2df7684e617"
      },
      "execution_count": 110,
      "outputs": [
        {
          "output_type": "stream",
          "name": "stdout",
          "text": [
            "<class 'pandas.core.frame.DataFrame'>\n",
            "RangeIndex: 100 entries, 0 to 99\n",
            "Data columns (total 12 columns):\n",
            " #   Column             Non-Null Count  Dtype         \n",
            "---  ------             --------------  -----         \n",
            " 0   client_id          100 non-null    int64         \n",
            " 1   company_size       100 non-null    object        \n",
            " 2   industry           100 non-null    object        \n",
            " 3   location           100 non-null    object        \n",
            " 4   subscription_type  100 non-null    object        \n",
            " 5   start_date         100 non-null    datetime64[ns]\n",
            " 6   end_date           100 non-null    datetime64[ns]\n",
            " 7   renewed            100 non-null    bool          \n",
            " 8   payment_date       100 non-null    datetime64[ns]\n",
            " 9   amount_paid        100 non-null    float64       \n",
            " 10  payment_method     100 non-null    object        \n",
            " 11  payment_year       100 non-null    period[Y-DEC] \n",
            "dtypes: bool(1), datetime64[ns](3), float64(1), int64(1), object(5), period[Y-DEC](1)\n",
            "memory usage: 8.8+ KB\n"
          ]
        }
      ]
    },
    {
      "cell_type": "markdown",
      "source": [
        "# Getting into solving questions"
      ],
      "metadata": {
        "id": "4kQKleVKbD9O"
      }
    },
    {
      "cell_type": "markdown",
      "source": [
        "### 1. How many finance lending and blockchain clients does the organization have?"
      ],
      "metadata": {
        "id": "XF0-BlSUg6EX"
      }
    },
    {
      "cell_type": "code",
      "source": [
        "## Filter the dataframe 'df_merge' to include only rows where the 'industry' column has values 'Finance Lending' or 'Block Chain'\n",
        "finance_blockchain_clients = df_merge[df_merge['industry'].isin(['Finance Lending', 'Block Chain'])]\n",
        "\n",
        "## Count the number of unique 'client_id' values in the filtered dataframe\n",
        "finance_blockchain_clients_count = finance_blockchain_clients['client_id'].nunique()\n",
        "\n",
        "## Print the count of unique clients in the 'Finance Lending' and 'Block Chain' industries\n",
        "print(\"finance_blockchain_clients_count : \", finance_blockchain_clients_count)"
      ],
      "metadata": {
        "colab": {
          "base_uri": "https://localhost:8080/"
        },
        "id": "NhrasYOeQAG7",
        "outputId": "34da4a9a-1708-4127-a942-cef068ba8827"
      },
      "execution_count": 113,
      "outputs": [
        {
          "output_type": "stream",
          "name": "stdout",
          "text": [
            "finance_blockchain_clients_count :  47\n"
          ]
        }
      ]
    },
    {
      "cell_type": "code",
      "source": [
        "## Assigning the size of the image for standardizing same size of the image\n",
        "plt.figure(figsize=(10, 6))\n",
        "\n",
        "## Getting the count of each unique value in the 'industry' column This counts how many clients belong to each industry (either 'Finance Lending' or 'Block Chain')\n",
        "finance_blockchain_value_count = finance_blockchain_clients['industry'].value_counts()\n",
        "\n",
        "## Creating a bar plot using Seaborn\n",
        "finance_blockchain_clients_plot = sns.barplot(x = finance_blockchain_value_count.index, y = finance_blockchain_value_count.values, palette='pastel')\n",
        "\n",
        "## Looping through the containers (bars) in the plot and add labels on top of each bar The 'bar_label' method adds the value labels, displaying the client count on top of each bar\n",
        "for cointer in finance_blockchain_clients_plot.containers:\n",
        "  finance_blockchain_clients_plot.bar_label(cointer, fontsize=10)\n",
        "\n",
        "## Adding titles and labels\n",
        "plt.title('Finance lending and blockchain clients does the organization have', fontsize=14)\n",
        "plt.xlabel('Industry', fontsize=12)\n",
        "plt.ylabel('Count of Industry ', fontsize=12)\n",
        "\n",
        "## Displaying plot\n",
        "plt.show()\n"
      ],
      "metadata": {
        "colab": {
          "base_uri": "https://localhost:8080/",
          "height": 569
        },
        "id": "FDjZmCWxUFGr",
        "outputId": "5df5b327-688f-42d1-8802-2c27b1e1438d"
      },
      "execution_count": 122,
      "outputs": [
        {
          "output_type": "display_data",
          "data": {
            "text/plain": [
              "<Figure size 1000x600 with 1 Axes>"
            ],
            "image/png": "[encoded data removed]"
          },
          "metadata": {}
        }
      ]
    },
    {
      "cell_type": "markdown",
      "source": [
        "### 2. Which industry in the organization has the highest renewal rate?"
      ],
      "metadata": {
        "id": "LjS5NUIphAWz"
      }
    },
    {
      "cell_type": "code",
      "source": [
        "## Assigning the size of the image for standardizing same size of the image\n",
        "plt.figure(figsize=(10, 6))\n",
        "\n",
        "## Filtering the dataframe 'df_merge' to include only rows where the 'renewed' column is True This gives us all the subscriptions that have been renewed\n",
        "renewed_subscriptions = df_merge[df_merge['renewed'] == True]\n",
        "\n",
        "## Getting the count of each unique value in the 'industry' column for the renewed subscriptions This tells us how many renewed subscriptions belong to each industry\n",
        "Highest_renewal_rate_count = renewed_subscriptions['industry'].value_counts()\n",
        "\n",
        "## Creating a bar plot using Seaborn\n",
        "Highest_renewal_rate_plot = sns.barplot(x = Highest_renewal_rate_count.index, y = Highest_renewal_rate_count.values, palette= 'pastel')\n",
        "\n",
        "## Looping through the containers (bars) in the plot and add labels on top of each bar The 'bar_label' method adds the value labels, displaying the client count on top of each bar\n",
        "for container in Highest_renewal_rate_plot.containers:\n",
        "  Highest_renewal_rate_plot.bar_label(container, fontsize=10)\n",
        "\n",
        "## Adding titles and labels\n",
        "plt.title('Highest renewal rate', fontsize=14)\n",
        "plt.xlabel('Industry', fontsize=12)\n",
        "plt.ylabel('Count of Industry ', fontsize=12)\n",
        "\n",
        "## Displaying plot\n",
        "plt.show()"
      ],
      "metadata": {
        "colab": {
          "base_uri": "https://localhost:8080/",
          "height": 569
        },
        "id": "WzXGrS4ghewO",
        "outputId": "ba9d79e7-34f8-44ab-9f1f-f83a4bff27ec"
      },
      "execution_count": 123,
      "outputs": [
        {
          "output_type": "display_data",
          "data": {
            "text/plain": [
              "<Figure size 1000x600 with 1 Axes>"
            ],
            "image/png": "[encoded data removed]"
          },
          "metadata": {}
        }
      ]
    },
    {
      "cell_type": "markdown",
      "source": [
        "### 4. What is the median amount paid each year for all payment methods?"
      ],
      "metadata": {
        "id": "oA0etawSuj8d"
      }
    },
    {
      "cell_type": "code",
      "source": [
        "## Assigning the size of the image for standardizing same size of the image\n",
        "plt.figure(figsize=(10, 6))\n",
        "\n",
        "## Creating a bar plot using Seaborn\n",
        "amount_paid_each_year_all_payment_plot = sns.barplot(data = df_merge, x='payment_year', y='amount_paid', hue='payment_method')\n",
        "\n",
        "## Looping through each set of bars (containers) in the plot to add labels on top of themThe 'bar_label' method adds a label showing the amount for each bar'labels' argument formats the labels to show rounded values (1 decimal place)\n",
        "for container in amount_paid_each_year_all_payment_plot.containers:\n",
        "  amount_paid_each_year_all_payment_plot.bar_label(container,\n",
        "                                                    labels=[f'{round(val, 1)}' for val in container.datavalues],\n",
        "                                                    fontsize=10)\n",
        "\n",
        "## Adding titles and labels\n",
        "plt.title('Median Amount Paid Each Year by Payment Method', fontsize=14)\n",
        "plt.xlabel('Payment Year', fontsize=12)\n",
        "plt.ylabel('Median Amount Paid', fontsize=12)\n",
        "plt.legend(title='Payment Method')\n",
        "\n",
        "# Displaying plot\n",
        "plt.show()"
      ],
      "metadata": {
        "colab": {
          "base_uri": "https://localhost:8080/",
          "height": 569
        },
        "id": "pXslZIzKyzOQ",
        "outputId": "6611e2b0-aa2a-4d56-8597-f8c9a76d081f"
      },
      "execution_count": 124,
      "outputs": [
        {
          "output_type": "display_data",
          "data": {
            "text/plain": [
              "<Figure size 1000x600 with 1 Axes>"
            ],
            "image/png": "[encoded data removed]"
          },
          "metadata": {}
        }
      ]
    },
    {
      "cell_type": "markdown",
      "source": [
        "### 3. What was the average inflation rate when their subscriptions were renewed?"
      ],
      "metadata": {
        "id": "HFLh9AO_gGnD"
      }
    },
    {
      "cell_type": "code",
      "source": [
        "## Creating an empty list to store the inflation rates corresponding to each renewed subscription\n",
        "inflation_rates = []\n",
        "\n",
        "## Looping through each row in the 'renewed_subscriptions' DataFrameWe use iterrows() to iterate over each row by index and row data\n",
        "for index, row in renewed_subscriptions.iterrows():\n",
        "\n",
        "## Extract the 'payment_date' for the current subscription\n",
        "    payment_date = row['payment_date']\n",
        "\n",
        "## Finding the relevant inflation data by filtering the 'df_merge' DataFrame We're looking for inflation data that corresponds to the time period that includes the 'payment_date'The inflation rate period is defined between 'start_date' and 'end_date'\n",
        "    relevant_inflation = df_merge[(df_merge['start_date'] <= payment_date) &\n",
        "                                  (df_merge['end_date'] >= payment_date)]\n",
        "\n",
        "## If there is any inflation data found for the period, append the inflation rate to the list We take the inflation rate from 'df_financial', assuming the first value is the correct one\n",
        "    if not relevant_inflation.empty:\n",
        "        inflation_rates.append(df_financial['inflation_rate'].values[0])\n",
        "\n",
        "## Calculating the average inflation rate for the renewed subscriptions We sum all the inflation rates and divide by the number of rates, but only if the list is not empty\n",
        "average_inflation_rate = sum(inflation_rates) / len(inflation_rates) if inflation_rates else 0\n",
        "\n",
        "## Printing the average inflation rate when subscriptions were renewed in the desired format\n",
        "print(\"Average inflation rate when subscriptions were renewed: \", round(average_inflation_rate, 2), \"%\")\n",
        "\n"
      ],
      "metadata": {
        "colab": {
          "base_uri": "https://localhost:8080/"
        },
        "id": "fSu-jN-dT_Gw",
        "outputId": "f859d4d1-12d8-40b2-b4d2-57743389c897"
      },
      "execution_count": 125,
      "outputs": [
        {
          "output_type": "stream",
          "name": "stdout",
          "text": [
            "Average inflation rate when subscriptions were renewed:  5.77 %\n"
          ]
        }
      ]
    },
    {
      "cell_type": "code",
      "source": [],
      "metadata": {
        "id": "RlNBiwnxhUfc"
      },
      "execution_count": null,
      "outputs": []
    }
  ]
}